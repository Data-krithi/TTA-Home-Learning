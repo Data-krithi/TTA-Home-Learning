{
 "cells": [
  {
   "cell_type": "code",
   "execution_count": 5,
   "metadata": {},
   "outputs": [],
   "source": [
    "my_list=[23,45,67,87]\n",
    "with open(\"Numbers.txt\",'w') as my_file:\n",
    "    for numbers in my_list:\n",
    "        my_file.write(str(numbers))\n",
    "        my_file.write('\\n')\n",
    "my_file.close()"
   ]
  }
 ],
 "metadata": {
  "interpreter": {
   "hash": "56262452e42865b9899205ae2e5337132c8b9591ad0ee09af50e51c2fb598ce9"
  },
  "kernelspec": {
   "display_name": "Python 3.9.5 64-bit",
   "name": "python3"
  },
  "language_info": {
   "codemirror_mode": {
    "name": "ipython",
    "version": 3
   },
   "file_extension": ".py",
   "mimetype": "text/x-python",
   "name": "python",
   "nbconvert_exporter": "python",
   "pygments_lexer": "ipython3",
   "version": "3.9.5"
  },
  "orig_nbformat": 4
 },
 "nbformat": 4,
 "nbformat_minor": 2
}
