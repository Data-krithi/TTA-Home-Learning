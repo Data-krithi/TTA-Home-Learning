{
 "cells": [
  {
   "cell_type": "code",
   "execution_count": 6,
   "metadata": {},
   "outputs": [
    {
     "name": "stdout",
     "output_type": "stream",
     "text": [
      "Requirement already satisfied: numpy in c:\\users\\krith\\appdata\\local\\programs\\python\\python310\\lib\\site-packages (1.21.3)\n",
      "Note: you may need to restart the kernel to use updated packages.\n"
     ]
    }
   ],
   "source": [
    "pip install numpy\n"
   ]
  },
  {
   "cell_type": "code",
   "execution_count": 7,
   "metadata": {},
   "outputs": [
    {
     "name": "stdout",
     "output_type": "stream",
     "text": [
      "[0 1 2 3 4 5 6 7 8 9]\n"
     ]
    }
   ],
   "source": [
    "import numpy as np #Create 1D array from 0 to 9\n",
    "array = np.arange(0,10)\n",
    "print (array)"
   ]
  },
  {
   "cell_type": "code",
   "execution_count": 8,
   "metadata": {},
   "outputs": [
    {
     "name": "stdout",
     "output_type": "stream",
     "text": [
      "[[1. 1. 1.]\n",
      " [1. 1. 1.]\n",
      " [1. 1. 1.]]\n"
     ]
    }
   ],
   "source": [
    "import numpy as np #Create a 3x3 array with all boolean values as true\n",
    "array=np.ones(9)\n",
    "new_array=array.reshape(3,3)\n",
    "print(new_array)\n"
   ]
  },
  {
   "cell_type": "code",
   "execution_count": 9,
   "metadata": {},
   "outputs": [
    {
     "name": "stdout",
     "output_type": "stream",
     "text": [
      "The List of Odd Numbers in this Array\n",
      "1\n",
      "3\n",
      "5\n",
      "7\n",
      "9\n"
     ]
    }
   ],
   "source": [
    "import numpy as np #Extract all the odd numbers from an array of 1 to 10\n",
    "a= np.array([1,2,3,4,5,6,7,8,9,10])\n",
    "print(\"The List of Odd Numbers in this Array\")\n",
    "for i in range(len(a)):\n",
    "    if (a[i] % 2==1):\n",
    "        print(a[i])"
   ]
  },
  {
   "cell_type": "code",
   "execution_count": 10,
   "metadata": {},
   "outputs": [
    {
     "name": "stdout",
     "output_type": "stream",
     "text": [
      "The List of Odd Numbers in this Array\n",
      "[-1  2 -1  4 -1  6 -1  8 -1 10]\n"
     ]
    }
   ],
   "source": [
    "import numpy as np #Replace all the odd numbers as -1 in an array of 1 to 10\n",
    "a= np.array([1,2,3,4,5,6,7,8,9,10])\n",
    "print(\"The List of Odd Numbers in this Array\")\n",
    "a[a%2==1] =-1\n",
    "print(a)"
   ]
  },
  {
   "cell_type": "code",
   "execution_count": 11,
   "metadata": {},
   "outputs": [
    {
     "name": "stdout",
     "output_type": "stream",
     "text": [
      "[[0 1]\n",
      " [2 3]]\n"
     ]
    }
   ],
   "source": [
    "import numpy as np #cONVERT 1d array to 2D array\n",
    "array1=np.arange(0,4).reshape(2,2)\n",
    "print(array1)"
   ]
  },
  {
   "cell_type": "code",
   "execution_count": 12,
   "metadata": {},
   "outputs": [
    {
     "name": "stdout",
     "output_type": "stream",
     "text": [
      "[[2715 2778 2841]\n",
      " [3102 3174 3246]\n",
      " [3489 3570 3651]]\n"
     ]
    }
   ],
   "source": [
    "import numpy as np #np.dot calculation\n",
    "a=np.arange(20,29).reshape(3,3)\n",
    "b=np.arange(40,49).reshape(3,3)\n",
    "c=np.dot(a,b)\n",
    "print(c)"
   ]
  },
  {
   "cell_type": "code",
   "execution_count": 13,
   "metadata": {},
   "outputs": [
    {
     "name": "stdout",
     "output_type": "stream",
     "text": [
      "28566\n"
     ]
    }
   ],
   "source": [
    "import numpy as np #np.sum calculation\n",
    "a=np.arange(20,29).reshape(3,3)\n",
    "b=np.arange(40,49).reshape(3,3)\n",
    "c=np.dot(a,b)\n",
    "sum=np.sum(c)\n",
    "print(sum)"
   ]
  },
  {
   "cell_type": "code",
   "execution_count": 14,
   "metadata": {},
   "outputs": [
    {
     "name": "stdout",
     "output_type": "stream",
     "text": [
      "[9306 9522 9738]\n"
     ]
    }
   ],
   "source": [
    "import numpy as np #sum of all the columns\n",
    "a=np.arange(20,29).reshape(3,3)\n",
    "b=np.arange(40,49).reshape(3,3)\n",
    "c=np.dot(a,b)\n",
    "e=np.sum(c,axis=0)\n",
    "print(e)"
   ]
  },
  {
   "cell_type": "code",
   "execution_count": 15,
   "metadata": {},
   "outputs": [
    {
     "name": "stdout",
     "output_type": "stream",
     "text": [
      "[ 8334  9522 10710]\n"
     ]
    }
   ],
   "source": [
    "import numpy as np #sum of all the rows\n",
    "a=np.arange(20,29).reshape(3,3)\n",
    "b=np.arange(40,49).reshape(3,3)\n",
    "c=np.dot(a,b)\n",
    "e=np.sum(c,axis=1)\n",
    "print(e)"
   ]
  },
  {
   "cell_type": "code",
   "execution_count": 16,
   "metadata": {},
   "outputs": [
    {
     "data": {
      "text/plain": [
       "array([1, 1, 1, 2, 2, 2, 3, 3, 3, 1, 2, 3, 1, 2, 3, 1, 2, 3])"
      ]
     },
     "execution_count": 16,
     "metadata": {},
     "output_type": "execute_result"
    }
   ],
   "source": [
    "n=1 #Create the pattern without hardcoding\n",
    "a=np.array([n,n,n,n+1,n+1,n+1,n+2,n+2,n+2,n,n+1,n+2,n,n+1,n+2,n,n+1,n+2])\n",
    "np.tile(a,1)"
   ]
  },
  {
   "cell_type": "code",
   "execution_count": 17,
   "metadata": {},
   "outputs": [
    {
     "data": {
      "text/plain": [
       "array([1, 1, 1, 2, 2, 2, 3, 3, 3, 1, 2, 3, 1, 2, 3, 1, 2, 3])"
      ]
     },
     "execution_count": 17,
     "metadata": {},
     "output_type": "execute_result"
    }
   ],
   "source": [
    "a=np.array([1,2,3]) #Create the pattern using the funcitons repeat and tile\n",
    "np.r_[np.repeat(a,3),np.tile(a,3)]"
   ]
  },
  {
   "cell_type": "code",
   "execution_count": 18,
   "metadata": {},
   "outputs": [
    {
     "data": {
      "text/plain": [
       "array([1, 2, 3, 4])"
      ]
     },
     "execution_count": 18,
     "metadata": {},
     "output_type": "execute_result"
    }
   ],
   "source": [
    "a=np.array([1,2,3,4,5]) #Remove repeating items present in array b ,which is 5 in this case\n",
    "b=np.array([5,6,7,8,9])\n",
    "np.setdiff1d(a,b)"
   ]
  },
  {
   "cell_type": "code",
   "execution_count": 19,
   "metadata": {},
   "outputs": [
    {
     "name": "stdout",
     "output_type": "stream",
     "text": [
      "24\n"
     ]
    }
   ],
   "source": [
    "a = np.array([1,2,3,4,5])\n",
    "b = np.array([4,5,6,7,8,9])\n",
    "c = np.concatenate((a, b))\n",
    "d = c > 3\n",
    "e = c[d]\n",
    "f = e < 7\n",
    "g = e[f]\n",
    "final = np.sum(g)\n",
    "print(final)"
   ]
  },
  {
   "cell_type": "code",
   "execution_count": null,
   "metadata": {},
   "outputs": [],
   "source": []
  }
 ],
 "metadata": {
  "interpreter": {
   "hash": "1c0c5ea7f6d391f2fec15c749d15492f0efb8e96b5462271e1c6872d248bbfa5"
  },
  "kernelspec": {
   "display_name": "Python 3.10.0 64-bit",
   "name": "python3"
  },
  "language_info": {
   "codemirror_mode": {
    "name": "ipython",
    "version": 3
   },
   "file_extension": ".py",
   "mimetype": "text/x-python",
   "name": "python",
   "nbconvert_exporter": "python",
   "pygments_lexer": "ipython3",
   "version": "3.10.0"
  },
  "orig_nbformat": 4
 },
 "nbformat": 4,
 "nbformat_minor": 2
}
