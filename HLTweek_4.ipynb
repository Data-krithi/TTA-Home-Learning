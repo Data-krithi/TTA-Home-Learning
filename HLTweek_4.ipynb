{
 "cells": [
  {
   "cell_type": "code",
   "execution_count": 3,
   "metadata": {},
   "outputs": [
    {
     "name": "stdout",
     "output_type": "stream",
     "text": [
      "    Destinations  Feedback   Average Hotel Star Rating  \\\n",
      "0          Spain          8                          3   \n",
      "1          Malta         10                          4   \n",
      "2      Mauritius         10                          5   \n",
      "3         France         10                          4   \n",
      "4    Switzerland          9                          4   \n",
      "5        Holland          8                          3   \n",
      "6       Scotland          9                          3   \n",
      "7         Turkey          7                          3   \n",
      "8         Greece          7                          4   \n",
      "9            USA          9                          5   \n",
      "10         Japan          9                          5   \n",
      "11       Austria          8                          5   \n",
      "12      Portugal          6                          4   \n",
      "13       Iceland          9                          4   \n",
      "14  South Africa          7                          3   \n",
      "\n",
      "    Number of All inclusive hotels Most Visited city  \n",
      "0                                3         Barcelona  \n",
      "1                                5          Valletta  \n",
      "2                                2        Port Louis  \n",
      "3                                5             Paris  \n",
      "4                                3            Zurich  \n",
      "5                                5         Amsterdam  \n",
      "6                                6           Glasgow  \n",
      "7                                4          Istanbul  \n",
      "8                                5            Athens  \n",
      "9                                7           Florida  \n",
      "10                               8         Hong Kong  \n",
      "11                               5            Vienna  \n",
      "12                               6            Lisbon  \n",
      "13                               6         Reykjavik  \n",
      "14                               4    Rio de Janeiro  \n"
     ]
    }
   ],
   "source": [
    "import pandas as pd #Import the .csv file \n",
    "dest = pd.read_csv(\"Destination_Data.csv\")\n",
    "print(dest)"
   ]
  },
  {
   "cell_type": "code",
   "execution_count": 4,
   "metadata": {},
   "outputs": [
    {
     "name": "stdout",
     "output_type": "stream",
     "text": [
      "  Destinations  Feedback   Average Hotel Star Rating  \\\n",
      "2    Mauritius         10                          5   \n",
      "3       France         10                          4   \n",
      "4  Switzerland          9                          4   \n",
      "5      Holland          8                          3   \n",
      "6     Scotland          9                          3   \n",
      "7       Turkey          7                          3   \n",
      "\n",
      "   Number of All inclusive hotels Most Visited city  \n",
      "2                               2        Port Louis  \n",
      "3                               5             Paris  \n",
      "4                               3            Zurich  \n",
      "5                               5         Amsterdam  \n",
      "6                               6           Glasgow  \n",
      "7                               4          Istanbul  \n"
     ]
    }
   ],
   "source": [
    "import pandas as pd #print the rows from 3 to 8\n",
    "dest = pd.read_csv(\"Destination_Data.csv\")\n",
    "print(dest.iloc[2:8])"
   ]
  },
  {
   "cell_type": "code",
   "execution_count": 5,
   "metadata": {},
   "outputs": [
    {
     "data": {
      "text/plain": [
       "4.933333333333334"
      ]
     },
     "execution_count": 5,
     "metadata": {},
     "output_type": "execute_result"
    }
   ],
   "source": [
    "#find the mean of the All inclusive hotels\n",
    "import pandas as pd \n",
    "dest = pd.read_csv(\"Destination_Data.csv\")\n",
    "dest[\"Number of All inclusive hotels\"].mean()\n",
    "\n",
    "\n"
   ]
  },
  {
   "cell_type": "code",
   "execution_count": 7,
   "metadata": {},
   "outputs": [
    {
     "data": {
      "text/plain": [
       "Destinations                        Austria\n",
       "Feedback                                  6\n",
       "Average Hotel Star Rating                 3\n",
       "Number of All inclusive hotels            2\n",
       "Most Visited city                 Amsterdam\n",
       "dtype: object"
      ]
     },
     "execution_count": 7,
     "metadata": {},
     "output_type": "execute_result"
    }
   ],
   "source": [
    "#Lowest scoring destination\n",
    "import pandas as pd\n",
    "dest = pd.read_csv(\"Destination_Data.csv\")\n",
    "dest.min()"
   ]
  },
  {
   "cell_type": "code",
   "execution_count": 8,
   "metadata": {},
   "outputs": [
    {
     "data": {
      "text/plain": [
       "Destinations                         USA\n",
       "Feedback                              10\n",
       "Average Hotel Star Rating              5\n",
       "Number of All inclusive hotels         8\n",
       "Most Visited city                 Zurich\n",
       "dtype: object"
      ]
     },
     "execution_count": 8,
     "metadata": {},
     "output_type": "execute_result"
    }
   ],
   "source": [
    "#Highest scoring destination\n",
    "import pandas as pd \n",
    "dest = pd.read_csv(\"Destination_Data.csv\")\n",
    "dest.max()"
   ]
  },
  {
   "cell_type": "code",
   "execution_count": 26,
   "metadata": {},
   "outputs": [
    {
     "ename": "SyntaxError",
     "evalue": "invalid syntax (Temp/ipykernel_4456/2157530965.py, line 3)",
     "output_type": "error",
     "traceback": [
      "\u001b[1;36m  File \u001b[1;32m\"C:\\Users\\krith\\AppData\\Local\\Temp/ipykernel_4456/2157530965.py\"\u001b[1;36m, line \u001b[1;32m3\u001b[0m\n\u001b[1;33m    dest.[dest(Average Hotel StarRating) > 9]\u001b[0m\n\u001b[1;37m         ^\u001b[0m\n\u001b[1;31mSyntaxError\u001b[0m\u001b[1;31m:\u001b[0m invalid syntax\n"
     ]
    }
   ],
   "source": [
    "import pandas as pd \n",
    "dest = pd.read_csv(\"Destination_Data.csv\")\n",
    "dest.[dest(Average Hotel StarRating) > 9]"
   ]
  },
  {
   "cell_type": "code",
   "execution_count": null,
   "metadata": {},
   "outputs": [
    {
     "data": {
      "text/plain": [
       "(15, 5)"
      ]
     },
     "execution_count": 23,
     "metadata": {},
     "output_type": "execute_result"
    }
   ],
   "source": [
    "import pandas as pd #total number of rows and columns \n",
    "dest.shape"
   ]
  }
 ],
 "metadata": {
  "interpreter": {
   "hash": "1c0c5ea7f6d391f2fec15c749d15492f0efb8e96b5462271e1c6872d248bbfa5"
  },
  "kernelspec": {
   "display_name": "Python 3.10.0 64-bit",
   "name": "python3"
  },
  "language_info": {
   "codemirror_mode": {
    "name": "ipython",
    "version": 3
   },
   "file_extension": ".py",
   "mimetype": "text/x-python",
   "name": "python",
   "nbconvert_exporter": "python",
   "pygments_lexer": "ipython3",
   "version": "3.10.0"
  },
  "orig_nbformat": 4
 },
 "nbformat": 4,
 "nbformat_minor": 2
}
