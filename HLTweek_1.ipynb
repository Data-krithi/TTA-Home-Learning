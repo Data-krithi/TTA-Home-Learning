{
 "cells": [
  {
   "cell_type": "code",
   "execution_count": 15,
   "metadata": {},
   "outputs": [
    {
     "name": "stdout",
     "output_type": "stream",
     "text": [
      "Hello World\n"
     ]
    }
   ],
   "source": [
    "print(\"Hello World\")"
   ]
  },
  {
   "cell_type": "code",
   "execution_count": 16,
   "metadata": {},
   "outputs": [
    {
     "name": "stdout",
     "output_type": "stream",
     "text": [
      "kk\n"
     ]
    }
   ],
   "source": [
    "user_input=input(\"what is your name?\")\n",
    "print (user_input)"
   ]
  },
  {
   "cell_type": "code",
   "execution_count": 17,
   "metadata": {},
   "outputs": [
    {
     "name": "stdout",
     "output_type": "stream",
     "text": [
      "you guessed an incorrect number!\n"
     ]
    }
   ],
   "source": [
    "#Task 1\n",
    "\n",
    "import random                    #import random library\n",
    "user_input==random.randint(1,10) #generate a random library\n",
    "name=input(\"enter your name:\")   #input user name\n",
    "guessed_number=input(\"Guess any number between 1 to 10 !\") #guess a number between 1 and 10\n",
    "if guessed_number==user_input:\n",
    "   print(\"You guessed the number correctly\")\n",
    "elif guessed_number!=user_input:\n",
    "   print(\"you guessed an incorrect number!\")\n"
   ]
  },
  {
   "cell_type": "code",
   "execution_count": 18,
   "metadata": {},
   "outputs": [
    {
     "name": "stdout",
     "output_type": "stream",
     "text": [
      "The best thing about good old days is that we were neither good nor old\n"
     ]
    }
   ],
   "source": [
    "#Task 2\n",
    "\n",
    "favourite_number=int(input(\"enter your favourite number between 1 and 100:\")) #enter favourite number between 1 to 100\n",
    "if favourite_number<=20:                                                       # if numbers selected less than or equal to 2\n",
    "   print(\"I ate a clock yesterday, it was very time consuming \")\n",
    "elif (favourite_number>20) and (favourite_number<60):                          #if numbers selected between 20 and 60\n",
    "  print(\"I recently decided to sell my vacuum cleaner as all it was doing was gathering dust\")\n",
    "elif (favourite_number>=60) and (favourite_number<=100):                        #if number selected between 60 and 100\n",
    "    print(\"The best thing about good old days is that we were neither good nor old\")"
   ]
  },
  {
   "cell_type": "code",
   "execution_count": 46,
   "metadata": {},
   "outputs": [
    {
     "name": "stdout",
     "output_type": "stream",
     "text": [
      "Your favourite meal is:soup,fish and chips with a glass of margarita\n"
     ]
    }
   ],
   "source": [
    "#Task3\n",
    "\n",
    "starter=input(\"enter your starter:\") #starter name\n",
    "main=input(\"enter your main course:\") #main course\n",
    "drinks=input(\"enter your drinks:\") #drinks name\n",
    "order= (\"Your favourite meal is:\" + starter + \",\" + main + \" \" + \"with a glass of\" + \" \" + drinks )\n",
    "print(order)\n"
   ]
  },
  {
   "cell_type": "code",
   "execution_count": 47,
   "metadata": {},
   "outputs": [
    {
     "name": "stdout",
     "output_type": "stream",
     "text": [
      "the cost of motorbike: 1800.0\n",
      "the cost of motorbike: 1620.0\n",
      "the cost of motorbike: 1458.0\n",
      "the cost of motorbike: 1312.2\n",
      "the cost of motorbike: 1180.98\n",
      "the cost of motorbike: 1062.882\n",
      "the cost of motorbike: 956.5938000000001\n"
     ]
    }
   ],
   "source": [
    "#Task 4\n",
    "motorbike_cost=2000\n",
    "while motorbike_cost>1000:    #while loop creates an iteration until the condition (motor_bike cost<1000)\n",
    " motorbike_cost=motorbike_cost*0.9\n",
    " print(\"the cost of motorbike:\",motorbike_cost)"
   ]
  },
  {
   "cell_type": "code",
   "execution_count": 48,
   "metadata": {},
   "outputs": [
    {
     "ename": "ValueError",
     "evalue": "invalid literal for int() with base 10: ''",
     "output_type": "error",
     "traceback": [
      "\u001b[1;31m---------------------------------------------------------------------------\u001b[0m",
      "\u001b[1;31mValueError\u001b[0m                                Traceback (most recent call last)",
      "\u001b[1;32m<ipython-input-48-8e088d0f5cdf>\u001b[0m in \u001b[0;36m<module>\u001b[1;34m\u001b[0m\n\u001b[1;32m----> 1\u001b[1;33m \u001b[0mx\u001b[0m\u001b[1;33m=\u001b[0m\u001b[0mint\u001b[0m\u001b[1;33m(\u001b[0m\u001b[0minput\u001b[0m\u001b[1;33m(\u001b[0m\u001b[1;34m\"enter number1:\"\u001b[0m\u001b[1;33m)\u001b[0m\u001b[1;33m)\u001b[0m\u001b[1;33m\u001b[0m\u001b[1;33m\u001b[0m\u001b[0m\n\u001b[0m\u001b[0;32m      2\u001b[0m \u001b[0my\u001b[0m\u001b[1;33m=\u001b[0m\u001b[0mint\u001b[0m\u001b[1;33m(\u001b[0m\u001b[0minput\u001b[0m\u001b[1;33m(\u001b[0m\u001b[1;34m\"enter number2:\"\u001b[0m\u001b[1;33m)\u001b[0m\u001b[1;33m)\u001b[0m\u001b[1;33m\u001b[0m\u001b[1;33m\u001b[0m\u001b[0m\n\u001b[0;32m      3\u001b[0m \u001b[0mz\u001b[0m\u001b[1;33m=\u001b[0m\u001b[0minput\u001b[0m \u001b[1;33m(\u001b[0m\u001b[1;34m\"Enter a choice, + = add, - = subtract, * = mul, / = div and ** = square \"\u001b[0m\u001b[1;33m)\u001b[0m\u001b[1;33m\u001b[0m\u001b[1;33m\u001b[0m\u001b[0m\n\u001b[0;32m      4\u001b[0m \u001b[1;33m\u001b[0m\u001b[0m\n\u001b[0;32m      5\u001b[0m \u001b[0madd\u001b[0m \u001b[1;33m=\u001b[0m \u001b[0mx\u001b[0m\u001b[1;33m+\u001b[0m\u001b[0my\u001b[0m\u001b[1;33m\u001b[0m\u001b[1;33m\u001b[0m\u001b[0m\n",
      "\u001b[1;31mValueError\u001b[0m: invalid literal for int() with base 10: ''"
     ]
    }
   ],
   "source": [
    "#Task 5\n",
    "x=int(input(\"enter number1:\")) #get number1\n",
    "y=int(input(\"enter number2:\")) #get number2\n",
    "z=input (\"Enter a choice, + = add, - = subtract, * = mul, / = div and ** = square \") #input choice of operation\n",
    "\n",
    "add = x+y  # choice of calculations\n",
    "subtract = x-y\n",
    "mul = x * y\n",
    "div = x/y\n",
    "square = (x*y)**2\n",
    "\n",
    "if z == '+': #perform the selected operations\n",
    "    print(\"The sum of two numbers is:\",add)\n",
    "elif z== '-':\n",
    "    print(\"The Differnce of two numbers is:\",subtract)\n",
    "elif z=='*':\n",
    "    print(\"The mul of two numbers is:\",mul)    \n",
    "elif z == '/':\n",
    "    print(\"The div of two numbers is:\",div)    \n",
    "elif z == '**':\n",
    "    print(\"The square of two numbers is :\",square)\n",
    "\n",
    "\n",
    "\n",
    "\n",
    "\n",
    "\n",
    "\n"
   ]
  }
 ],
 "metadata": {
  "interpreter": {
   "hash": "56262452e42865b9899205ae2e5337132c8b9591ad0ee09af50e51c2fb598ce9"
  },
  "kernelspec": {
   "display_name": "Python 3.9.5 64-bit",
   "name": "python3"
  },
  "language_info": {
   "codemirror_mode": {
    "name": "ipython",
    "version": 3
   },
   "file_extension": ".py",
   "mimetype": "text/x-python",
   "name": "python",
   "nbconvert_exporter": "python",
   "pygments_lexer": "ipython3",
   "version": "3.9.5"
  },
  "orig_nbformat": 4
 },
 "nbformat": 4,
 "nbformat_minor": 2
}
