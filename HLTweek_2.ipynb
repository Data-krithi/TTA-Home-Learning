{
 "cells": [
  {
   "cell_type": "code",
   "execution_count": 101,
   "metadata": {},
   "outputs": [
    {
     "name": "stdout",
     "output_type": "stream",
     "text": [
      "the cost of bike this year is:2700.0\n",
      "the cost of bike this year is:2430.0\n",
      "the cost of bike this year is:2187.0\n",
      "the cost of bike this year is:1968.3\n",
      "the cost of bike this year is:1771.47\n",
      "the cost of bike this year is:1594.323\n",
      "the cost of bike this year is:1434.8907000000002\n",
      "the cost of bike this year is:1291.40163\n",
      "the cost of bike this year is:1162.261467\n",
      "the cost of bike this year is:1046.0353203\n",
      "the cost of bike this year is:941.43178827\n"
     ]
    }
   ],
   "source": [
    "def func(cost): #define the function with parameter 'cost'\n",
    "    \n",
    "    while cost>1000: #create a loop to check the cost of bike every year\n",
    "     cost=cost*0.9\n",
    "     output= \"the cost of bike this year is:\" + str(cost)\n",
    "     print(output)\n",
    "     \n",
    "func(3000) #using the argument £3000 for the parameter 'cost'"
   ]
  },
  {
   "cell_type": "code",
   "execution_count": 128,
   "metadata": {},
   "outputs": [],
   "source": [
    "#perform calculations using procedures and functions with passing parameters\n",
    "\n",
    "def calculate(a,b): #create a function with parameters\n",
    "    \n",
    "    choice= int(input(\"choose 1=add, 2=subtract, 3=multiply, 4=divide, 5=square\")) #user chooses the operation from the choices\n",
    "\n",
    "    \n",
    "    if choice==1:\n",
    "        add(a,b)\n",
    "    elif choice==2:\n",
    "        sub(a,b)\n",
    "    elif choice==3:\n",
    "        multiply(a,b)\n",
    "    elif choice==4:\n",
    "        divide(a,b)    \n",
    "    elif choice==5:\n",
    "        square(a,b)    \n",
    "    else:\n",
    "        print(\"invalid input\")\n"
   ]
  },
  {
   "cell_type": "code",
   "execution_count": 129,
   "metadata": {},
   "outputs": [],
   "source": [
    "#create functions with passing parameters\n",
    "\n",
    "def add(a,b): #function for addition\n",
    "        add=a+b\n",
    "        print(add)\n",
    "\n",
    "def sub(a,b):   #funciton for subtraction\n",
    "       subtract=a-b\n",
    "       print(subtract)\n",
    "\n",
    "def multiply(a,b): #function for multiply\n",
    "        multiply=a*b\n",
    "        print(multiply)\n",
    "\n",
    "def divide(a,b): #funciton for division\n",
    "       divide=a/b\n",
    "       print(divide)\n",
    "\n",
    "def square(a,b): #function for calculating square\n",
    "       square=a**b    \n",
    "       print(square)    "
   ]
  },
  {
   "cell_type": "code",
   "execution_count": 132,
   "metadata": {},
   "outputs": [
    {
     "name": "stdout",
     "output_type": "stream",
     "text": [
      "81\n"
     ]
    }
   ],
   "source": [
    "square(9,2)"
   ]
  }
 ],
 "metadata": {
  "interpreter": {
   "hash": "56262452e42865b9899205ae2e5337132c8b9591ad0ee09af50e51c2fb598ce9"
  },
  "kernelspec": {
   "display_name": "Python 3.9.5 64-bit",
   "name": "python3"
  },
  "language_info": {
   "codemirror_mode": {
    "name": "ipython",
    "version": 3
   },
   "file_extension": ".py",
   "mimetype": "text/x-python",
   "name": "python",
   "nbconvert_exporter": "python",
   "pygments_lexer": "ipython3",
   "version": "3.9.5"
  },
  "orig_nbformat": 4
 },
 "nbformat": 4,
 "nbformat_minor": 2
}
